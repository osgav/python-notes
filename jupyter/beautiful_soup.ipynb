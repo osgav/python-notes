{
 "cells": [
  {
   "cell_type": "code",
   "execution_count": null,
   "metadata": {
    "collapsed": true,
    "deletable": true,
    "editable": true
   },
   "outputs": [],
   "source": [
    "# single function\n",
    "# grab HTML source of web page\n",
    "#\n",
    "\n",
    "# pip install beautifulsoup\n",
    "# pip install requests\n",
    "\n",
    "from bs4 import BeautifulSoup\n",
    "import requests\n",
    "\n",
    "def page_source(url):\n",
    "    '''make HTTP GET request to URL passed in and\n",
    "    and return a BeautifulSoup object'''\n",
    "\n",
    "    response = requests.get(url)\n",
    "    soup = BeautifulSoup(response.text, \"html.parser\")\n",
    "    return soup\n",
    "\n",
    "page_source(\"https://osgav.run\")"
   ]
  },
  {
   "cell_type": "code",
   "execution_count": null,
   "metadata": {
    "collapsed": true
   },
   "outputs": [],
   "source": [
    "#!/usr/bin/env python\n",
    "#\n",
    "# savepage.py <filename.html> <url to download>\n",
    "\n",
    "import requests\n",
    "import sys\n",
    "import codecs\n",
    "\n",
    "OUTFILE = sys.argv[1]\n",
    "URL = sys.argv[2]\n",
    "\n",
    "def page_source(url):\n",
    "  ''' save page source to file '''\n",
    "  response = requests.get(url)\n",
    "  with codecs.open(OUTFILE, 'w', 'utf-8') as outfile: # https://stackoverflow.com/questions/934160/write-to-utf-8-file-in-python\n",
    "    outfile.write(response.text)\n",
    "\n",
    "def main():\n",
    "  page_source(URL)\n",
    "#   print sys.argv[1]\n",
    "#   print sys.argv[2]\n",
    "\n",
    "if __name__ == \"__main__\":\n",
    "  main()"
   ]
  },
  {
   "cell_type": "code",
   "execution_count": 1,
   "metadata": {
    "collapsed": false,
    "deletable": true,
    "editable": true
   },
   "outputs": [
    {
     "ename": "ImportError",
     "evalue": "No module named bs4",
     "output_type": "error",
     "traceback": [
      "\u001b[0;31m---------------------------------------------------------------------------\u001b[0m",
      "\u001b[0;31mImportError\u001b[0m                               Traceback (most recent call last)",
      "\u001b[0;32m<ipython-input-1-9fe3d96bb66f>\u001b[0m in \u001b[0;36m<module>\u001b[0;34m()\u001b[0m\n\u001b[1;32m      3\u001b[0m \u001b[0;34m\u001b[0m\u001b[0m\n\u001b[1;32m      4\u001b[0m \u001b[0;34m\u001b[0m\u001b[0m\n\u001b[0;32m----> 5\u001b[0;31m \u001b[0;32mfrom\u001b[0m \u001b[0mbs4\u001b[0m \u001b[0;32mimport\u001b[0m \u001b[0mBeautifulSoup\u001b[0m\u001b[0;34m\u001b[0m\u001b[0m\n\u001b[0m\u001b[1;32m      6\u001b[0m \u001b[0;32mimport\u001b[0m \u001b[0murllib\u001b[0m\u001b[0;34m\u001b[0m\u001b[0m\n\u001b[1;32m      7\u001b[0m \u001b[0;34m\u001b[0m\u001b[0m\n",
      "\u001b[0;31mImportError\u001b[0m: No module named bs4"
     ]
    }
   ],
   "source": [
    "# example\n",
    "# parsing <head> sections for <script> tags\n",
    "#\n",
    "# pip install beautifulsoup\n",
    "# pip install lxml\n",
    "\n",
    "\n",
    "from bs4 import BeautifulSoup\n",
    "import urllib\n",
    "\n",
    "urls = ['www.skyscanner.net', 'www.kayak.com', 'www.airbnb.com']\n",
    "\n",
    "for url in urls:\n",
    "    htmlobject = urllib.urlopen(url)\n",
    "\n",
    "    #print htmlobject.code\n",
    "\n",
    "    soup = BeautifulSoup(htmlobject, \"lxml\")\n",
    "    headblock = soup.find('head')\n",
    "    headblockscripttags = headblock.find_all('script')\n",
    "\n",
    "    print len(headblockscripttags)\n",
    "\n",
    "    for script in headblockscripttags:\n",
    "        print script.string\n",
    "\n",
    "\n"
   ]
  }
 ],
 "metadata": {
  "kernelspec": {
   "display_name": "Python 2",
   "language": "python",
   "name": "python2"
  },
  "language_info": {
   "codemirror_mode": {
    "name": "ipython",
    "version": 2
   },
   "file_extension": ".py",
   "mimetype": "text/x-python",
   "name": "python",
   "nbconvert_exporter": "python",
   "pygments_lexer": "ipython2",
   "version": "2.7.12"
  }
 },
 "nbformat": 4,
 "nbformat_minor": 2
}
