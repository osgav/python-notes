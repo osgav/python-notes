{
 "cells": [
  {
   "cell_type": "code",
   "execution_count": null,
   "metadata": {
    "collapsed": true
   },
   "outputs": [],
   "source": [
    "#!/usr/bin/env python\n",
    "''' grafparse.py '''\n",
    "\n",
    "# Wednesday 31 January 2018\n",
    "#\n",
    "#\n",
    "# parsing grafana_data_export csv files...\n",
    "\n",
    "import csv\n",
    "import json\n",
    "\n",
    "# CSV_DIR = 'csv'\n",
    "JSON_DIR = '../app/jsongraf' # script output\n",
    "CSV_FILE = 'grafana_data_export/grafana_data_export_columns.csv' # script input\n",
    "\n",
    "DATA_TYPES = [\"current\",\n",
    "              \"minus_1w\",\n",
    "              \"minus_2w\",\n",
    "              \"last_2w_average\",\n",
    "              \"now_vs_average\",\n",
    "              \"now_vs_average_ratio\"]\n",
    "\n",
    "OUTPUT_DATA = {}\n",
    "for data_type in DATA_TYPES:\n",
    "    OUTPUT_DATA[data_type] = []\n",
    "\n",
    "with open(CSV_FILE, 'r') as csvhandle:\n",
    "    READER = csv.reader(csvhandle, delimiter=';')\n",
    "    for row in READER:\n",
    "\n",
    "        timestamp = row[0]\n",
    "        current = row[1]\n",
    "        minus_1w = row[2]\n",
    "        minus_2w = row[3]\n",
    "\n",
    "        # current_datapoint = {'date': timestamp, 'value': float(current)}\n",
    "        current_datapoint = [timestamp, float(current)]\n",
    "        minus_1w_datapoint = {'date': timestamp, 'value': float(minus_1w)}\n",
    "        minus_2w_datapoint = {'date': timestamp, 'value': float(minus_2w)}\n",
    "\n",
    "        last_2w_average = (float(minus_1w) + float(minus_2w)) / 2\n",
    "        now_vs_average = float(current) - float(last_2w_average)\n",
    "        now_vs_average_ratio = (float(current) / float(last_2w_average)) * 100\n",
    "\n",
    "        # last_2w_average_datapoint = {'date': timestamp, 'value': last_2w_average}\n",
    "        last_2w_average_datapoint = [timestamp, last_2w_average]\n",
    "        now_vs_average_datapoint = {'date': timestamp, 'value': now_vs_average}\n",
    "        now_vs_average_ratio_datapoint = {'date': timestamp, 'value': now_vs_average_ratio}\n",
    "\n",
    "        OUTPUT_DATA['current'].append(current_datapoint)\n",
    "        OUTPUT_DATA['minus_1w'].append(minus_1w_datapoint)\n",
    "        OUTPUT_DATA['minus_2w'].append(minus_2w_datapoint)\n",
    "        OUTPUT_DATA['last_2w_average'].append(last_2w_average_datapoint)\n",
    "        OUTPUT_DATA['now_vs_average'].append(now_vs_average_datapoint)\n",
    "        OUTPUT_DATA['now_vs_average_ratio'].append(now_vs_average_ratio_datapoint)\n",
    "\n",
    "for data_type in DATA_TYPES:\n",
    "    JSON_FILE = '{}/{}.json'.format(JSON_DIR, data_type)\n",
    "    with open(JSON_FILE, 'w') as jsonhandle:\n",
    "        json.dump(OUTPUT_DATA[data_type], jsonhandle, indent=4)        "
   ]
  }
 ],
 "metadata": {
  "kernelspec": {
   "display_name": "Python 2",
   "language": "python",
   "name": "python2"
  },
  "language_info": {
   "codemirror_mode": {
    "name": "ipython",
    "version": 2
   },
   "file_extension": ".py",
   "mimetype": "text/x-python",
   "name": "python",
   "nbconvert_exporter": "python",
   "pygments_lexer": "ipython2",
   "version": "2.7.12"
  }
 },
 "nbformat": 4,
 "nbformat_minor": 2
}
