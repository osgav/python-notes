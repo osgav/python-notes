{
 "cells": [
  {
   "cell_type": "code",
   "execution_count": null,
   "metadata": {
    "collapsed": true
   },
   "outputs": [],
   "source": [
    "# pip install PrettyTable\n",
    "# pip install PTable\n",
    "\n",
    "from prettytable import PrettyTable\n",
    "from prettytable import ALL as ALL\n",
    "\n",
    "table = PrettyTable(hrules=ALL)\n",
    "\n",
    "table.field_names = [\"function name\", \"project tag\"]\n",
    "\n",
    "table.align['function name'] = \"l\"\n",
    "table.align['project tag'] = \"l\"\n",
    "\n",
    "table.add_row([\"function1\", \"abc\"])\n",
    "table.add_row([\"function2\", \"abc\"])\n",
    "\n",
    "table.add_column(\"last updated\", [\"20181108 2230 UTC\", \"20181108 2245 UTC\"])\n",
    "    \n",
    "table.title = \"batch ID: test 0\"\n",
    "\n",
    "print(table)"
   ]
  },
  {
   "cell_type": "code",
   "execution_count": null,
   "metadata": {
    "collapsed": true
   },
   "outputs": [],
   "source": [
    "# from rundeckchangelog.py\n",
    "#\n",
    "\n",
    "def main():\n",
    "    '''get rundeck changelog'''\n",
    "\n",
    "    news_soup = page_source(RUNDECK_NEWS)\n",
    "    news_rel_urls = news_soup.findAll('a', href=re.compile(r'/news/'))\n",
    "    news_abs_urls = [RUNDECK_BASE + i['href'] for i in news_rel_urls]\n",
    "\n",
    "    for url in news_abs_urls[:NUMBER_OF_RELEASES]:\n",
    "\n",
    "        table = PrettyTable()\n",
    "        table.field_names = [\"issue\", \"link\"]\n",
    "        table.align['issue'] = \"l\"\n",
    "        table.align['link'] = \"l\"\n",
    "\n",
    "        release_soup = page_source(url)\n",
    "        release_issues = release_soup.find('div', attrs={'class':'content'})\n",
    "\n",
    "        table.title = release_issues.p.a.contents[0]\n",
    "\n",
    "        list_of_ul = release_issues.findAll('ul')\n",
    "        issue_ul = list_of_ul[-1]\n",
    "        actual_issues = issue_ul.findAll('a')\n",
    "\n",
    "        for issue in actual_issues:\n",
    "            table.add_row([issue.contents[0], issue.attrs['href']])\n",
    "\n",
    "        print(table)\n",
    "        print \"\\n\""
   ]
  }
 ],
 "metadata": {
  "kernelspec": {
   "display_name": "Python 2",
   "language": "python",
   "name": "python2"
  },
  "language_info": {
   "codemirror_mode": {
    "name": "ipython",
    "version": 2
   },
   "file_extension": ".py",
   "mimetype": "text/x-python",
   "name": "python",
   "nbconvert_exporter": "python",
   "pygments_lexer": "ipython2",
   "version": "2.7.12"
  }
 },
 "nbformat": 4,
 "nbformat_minor": 2
}
