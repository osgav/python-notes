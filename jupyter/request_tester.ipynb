{
 "cells": [
  {
   "cell_type": "code",
   "execution_count": null,
   "metadata": {
    "collapsed": true,
    "deletable": true,
    "editable": true
   },
   "outputs": [],
   "source": [
    "#!/usr/bin/env python\n",
    "#\n",
    "# request_tester.py\n",
    "#\n",
    "# pattern for storing credentials locally in plaintext\n",
    "# and avoiding committing to source control via\n",
    "# 'config folder' entry in .gitignore\n",
    "#\n",
    "\n",
    "import json\n",
    "import requests\n",
    "requests.packages.urllib3.disable_warnings()\n",
    "import sys\n",
    "\n",
    "from config.api_credentials import api_username, api_password\n",
    "\n",
    "if ( len(api_username) == 0 or len(api_password) ==0 ):\n",
    "        print \"[-] Enter username and password in ./config/api_credentials.py\"\n",
    "        print \"\"\n",
    "        sys.exit()\n",
    "else:\n",
    "        account =\"bloop\"\n",
    "        username = api_username\n",
    "        password = api_password\n",
    "\n",
    "auth = (username+'@'+account, password)\n",
    "\n",
    "# URLs from the Metric Browser won't have &output=JSON appended to them, you need to add it or you'll get XML\n",
    "\n",
    "url = \"https://bloop.saas.appdynamics.com/controller/rest/applications/B2B%20Systems/metric-data?metric-path=Application%20Infrastructure%20Performance%7C*%7CIndividual%20Nodes%7C*%7CHardware%20Resources%7CNetwork%7CIncoming%20Errors&time-range-type=BEFORE_NOW&duration-in-mins=240&output=json\"\n",
    "\n",
    "\n",
    "\n",
    "http = requests.get(url, auth=auth)\n",
    "jsondata = json.loads(http.text)\n",
    "\n",
    "#for pagereq in jsondata:\n",
    "#       print pagereq['name']\n",
    "\n",
    "\n",
    "for metric in jsondata:\n",
    "        print metric['metricName']"
   ]
  },
  {
   "cell_type": "code",
   "execution_count": 2,
   "metadata": {
    "collapsed": false,
    "deletable": true,
    "editable": true
   },
   "outputs": [
    {
     "ename": "ImportError",
     "evalue": "No module named request_tester_config.api_credentials",
     "output_type": "error",
     "traceback": [
      "\u001b[0;31m---------------------------------------------------------------------------\u001b[0m",
      "\u001b[0;31mImportError\u001b[0m                               Traceback (most recent call last)",
      "\u001b[0;32m<ipython-input-2-2d5d7291cab5>\u001b[0m in \u001b[0;36m<module>\u001b[0;34m()\u001b[0m\n\u001b[0;32m----> 1\u001b[0;31m \u001b[0;32mfrom\u001b[0m \u001b[0mrequest_tester_config\u001b[0m\u001b[0;34m.\u001b[0m\u001b[0mapi_credentials\u001b[0m \u001b[0;32mimport\u001b[0m \u001b[0mapi_username\u001b[0m\u001b[0;34m,\u001b[0m \u001b[0mapi_password\u001b[0m\u001b[0;34m\u001b[0m\u001b[0m\n\u001b[0m\u001b[1;32m      2\u001b[0m \u001b[0;32mprint\u001b[0m \u001b[0mapi_username\u001b[0m\u001b[0;34m\u001b[0m\u001b[0m\n\u001b[1;32m      3\u001b[0m \u001b[0;32mprint\u001b[0m \u001b[0mapi_password\u001b[0m\u001b[0;34m\u001b[0m\u001b[0m\n",
      "\u001b[0;31mImportError\u001b[0m: No module named request_tester_config.api_credentials"
     ]
    }
   ],
   "source": [
    "from request_tester_config.api_credentials import api_username, api_password\n",
    "print api_username\n",
    "print api_password"
   ]
  },
  {
   "cell_type": "code",
   "execution_count": null,
   "metadata": {
    "collapsed": false,
    "deletable": true,
    "editable": true
   },
   "outputs": [],
   "source": [
    "import os\n",
    "print os.getcwd()"
   ]
  },
  {
   "cell_type": "code",
   "execution_count": null,
   "metadata": {
    "collapsed": false,
    "deletable": true,
    "editable": true
   },
   "outputs": [],
   "source": [
    "print os.listdir(os.getcwd())"
   ]
  },
  {
   "cell_type": "code",
   "execution_count": null,
   "metadata": {
    "collapsed": true,
    "deletable": true,
    "editable": true
   },
   "outputs": [],
   "source": []
  }
 ],
 "metadata": {
  "kernelspec": {
   "display_name": "Python 2",
   "language": "python",
   "name": "python2"
  },
  "language_info": {
   "codemirror_mode": {
    "name": "ipython",
    "version": 2
   },
   "file_extension": ".py",
   "mimetype": "text/x-python",
   "name": "python",
   "nbconvert_exporter": "python",
   "pygments_lexer": "ipython2",
   "version": "2.7.12"
  }
 },
 "nbformat": 4,
 "nbformat_minor": 2
}
